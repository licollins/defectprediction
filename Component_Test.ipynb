{
  "nbformat": 4,
  "nbformat_minor": 0,
  "metadata": {
    "colab": {
      "name": "Component_Test.ipynb",
      "provenance": [],
      "collapsed_sections": [],
      "authorship_tag": "ABX9TyOn7qhfOzFSCiKWsrR2gsU8",
      "include_colab_link": true
    },
    "kernelspec": {
      "name": "python3",
      "display_name": "Python 3"
    },
    "language_info": {
      "name": "python"
    }
  },
  "cells": [
    {
      "cell_type": "markdown",
      "metadata": {
        "id": "view-in-github",
        "colab_type": "text"
      },
      "source": [
        "<a href=\"https://colab.research.google.com/github/licollins/defectprediction/blob/master/Component_Test.ipynb\" target=\"_parent\"><img src=\"https://colab.research.google.com/assets/colab-badge.svg\" alt=\"Open In Colab\"/></a>"
      ]
    },
    {
      "cell_type": "code",
      "source": [
        "#instalar pytest\n",
        "!pip -q install pytest pytest-sugar"
      ],
      "metadata": {
        "id": "LUdO2MIR1LDS"
      },
      "execution_count": null,
      "outputs": []
    },
    {
      "cell_type": "code",
      "source": [
        "#instalar pytest-cov\n",
        "!pip -q install -U pytest-cov"
      ],
      "metadata": {
        "colab": {
          "base_uri": "https://localhost:8080/"
        },
        "id": "XHa3MtUa1aaj",
        "outputId": "f088ad08-710c-468b-c3ba-89ec7c6f388e"
      },
      "execution_count": 22,
      "outputs": [
        {
          "output_type": "stream",
          "name": "stdout",
          "text": [
            "Requirement already satisfied: coverage in /usr/local/lib/python3.7/dist-packages (6.3.3)\n"
          ]
        }
      ]
    },
    {
      "cell_type": "code",
      "source": [
        "# criar e mover para diretório tdd \n",
        "from pathlib import Path\n",
        "if Path.cwd().name != 'tdd':\n",
        "    %mkdir tdd\n",
        "    %cd tdd\n",
        "\n",
        "%pwd"
      ],
      "metadata": {
        "colab": {
          "base_uri": "https://localhost:8080/",
          "height": 53
        },
        "id": "CJAZVznHtbJN",
        "outputId": "6bd0e6a2-4760-4ab9-818a-1793ffacfe48"
      },
      "execution_count": null,
      "outputs": [
        {
          "output_type": "stream",
          "name": "stdout",
          "text": [
            "/content/tdd\n"
          ]
        },
        {
          "output_type": "execute_result",
          "data": {
            "text/plain": [
              "'/content/tdd'"
            ],
            "application/vnd.google.colaboratory.intrinsic+json": {
              "type": "string"
            }
          },
          "metadata": {},
          "execution_count": 116
        }
      ]
    },
    {
      "cell_type": "code",
      "source": [
        "# cleanup all files\n",
        "%rm *.py"
      ],
      "metadata": {
        "colab": {
          "base_uri": "https://localhost:8080/"
        },
        "id": "esVFtQtRx3ws",
        "outputId": "0bfe3292-7137-4c9c-dd0c-7d889f5780dd"
      },
      "execution_count": null,
      "outputs": [
        {
          "output_type": "stream",
          "name": "stdout",
          "text": [
            "rm: cannot remove '*.py': No such file or directory\n"
          ]
        }
      ]
    },
    {
      "cell_type": "code",
      "source": [
        "%%file instrutor.py\n",
        "class Instrutor:\n",
        "    def __init__(self, nome, email, formacao, empresa, ativo):\n",
        "        self.__nome = nome\n",
        "        self.__email = email\n",
        "        self.__formacao = formacao\n",
        "        self.__empresa = empresa\n",
        "        self.__ativo = ativo\n",
        "        \n",
        "    def desativar(self):\n",
        "        self.__ativo = False\n",
        "        print(\"A pessoa foi desativada com sucesso\")\n",
        "    \n",
        "    def get_nome(self):\n",
        "        return self.__nome\n",
        "    \n",
        "    def set_nome(self, nome):\n",
        "        self.__nome = nome\n",
        "    \n",
        "    def set_email(self,email):\n",
        "      self.__email = email\n",
        "    \n",
        "    def set_formacao(self, formacao):\n",
        "      self.__formacao = formacao\n",
        "    \n",
        "    def set_empresa(self,empresa):\n",
        "      self.__empresa = empresa\n",
        "\n",
        "    @property\n",
        "    def nome(self):\n",
        "        return self.__nome\n",
        "    \n",
        "    @property\n",
        "    def email(self):\n",
        "        return self.__email\n",
        "    \n",
        "    @property\n",
        "    def formacao(self):\n",
        "        return self.__formacao\n",
        "    \n",
        "    @property\n",
        "    def empresa(self):\n",
        "        return self.__empresa\n",
        "    \n",
        "    @property\n",
        "    def ativo(self):\n",
        "        return self.__ativo\n",
        "    \n",
        "    @nome.setter\n",
        "    def nome(self, nome):\n",
        "        self.__nome = nome\n",
        "    @email.setter\n",
        "    def email(self, email):\n",
        "        self.__email = email\n",
        "    @formacao.setter\n",
        "    def formacao(self, formacao):\n",
        "        self.__formacao = formacao\n",
        "    @empresa.setter\n",
        "    def empresa(self, empresa):\n",
        "        self.__empresa = empresa\n",
        "    @ativo.setter\n",
        "    def ativo(self, ativo):\n",
        "        self.__ativo = ativo"
      ],
      "metadata": {
        "id": "jIijx231UyUD",
        "colab": {
          "base_uri": "https://localhost:8080/"
        },
        "outputId": "58c02fdb-6d7a-43d9-fb22-b21f1d3693ba"
      },
      "execution_count": null,
      "outputs": [
        {
          "output_type": "stream",
          "name": "stdout",
          "text": [
            "Overwriting instrutor.py\n"
          ]
        }
      ]
    },
    {
      "cell_type": "code",
      "source": [
        "%%file instcontroller.py\n",
        "import re\n",
        "from instrutor import Instrutor\n",
        "class Instcontroller:\n",
        "\n",
        "  def validar_email(self,email):\n",
        "    regex = '^[a-z0-9]+[\\._]?[a-z0-9]+[@]\\w+[.]\\w{2,3}$'\n",
        "    if(re.search(regex,email)): \n",
        "      return True\n",
        "    else:\n",
        "      return False\n",
        "       \n",
        "  def salvar (self, nome, email, formacao,empresa,ativo):\n",
        "    instrutor1 = Instrutor(\"João\", \"joao@test.com\", \"engenheiro de software\", \"teste\",True)\n",
        "    valid = True\n",
        "    if (nome !=\"\" and email !=\"\" and formacao !=\"\"):\n",
        "      \n",
        "      if self.validar_email(email)== True:\n",
        "        \n",
        "        if (email == instrutor1.email):\n",
        "          result = \"e-mail duplicado\"\n",
        "        else:\n",
        "          instrutor2 = Instrutor(nome,email,formacao,empresa,True)\n",
        "          result = \"Instrutor salvo com sucesso\"\n",
        "          \n",
        "      else: \n",
        "        result = \"E-mail inválido\"\n",
        "        \n",
        "    else:\n",
        "        result = \"Os campos nome, e-mail e formação não podem ser vazios\"\n",
        "\n",
        "    print(result)\n",
        "    return result\n",
        "    \n",
        "\n"
      ],
      "metadata": {
        "colab": {
          "base_uri": "https://localhost:8080/"
        },
        "id": "H2OdJi-kZOqz",
        "outputId": "efd6b114-bf65-46e2-8195-7e50043ad779"
      },
      "execution_count": null,
      "outputs": [
        {
          "output_type": "stream",
          "name": "stdout",
          "text": [
            "Overwriting instcontroller.py\n"
          ]
        }
      ]
    },
    {
      "cell_type": "code",
      "source": [
        "#Executar cadastro de instrutor\n",
        "if __name__ == \"__main__\":\n",
        "  new_inst = Instcontroller()\n",
        "\n",
        "  new_inst.salvar(\"Maria\",\"maria@test.com\",\"analista de sistemas\",\"teste\", True)\n",
        "   "
      ],
      "metadata": {
        "colab": {
          "base_uri": "https://localhost:8080/"
        },
        "id": "PyYdB2NaXYJV",
        "outputId": "a076b325-e558-479d-f5e6-b5e00433bee7"
      },
      "execution_count": null,
      "outputs": [
        {
          "output_type": "stream",
          "name": "stdout",
          "text": [
            "Instrutor salvo com sucesso\n"
          ]
        }
      ]
    },
    {
      "cell_type": "code",
      "source": [
        "%%file test_instrutor.py\n",
        "from instcontroller import Instcontroller\n",
        "\n",
        "\n",
        "def test_salvar_inst_success():\n",
        "    success_msg = \"Instrutor salvo com sucesso\"\n",
        "    new_inst = Instcontroller()\n",
        "    resultado = new_inst.salvar(\"Maria\",\"maria@test.com\",\"analista de sistemas\",\"teste\", True)\n",
        "    assert(resultado==success_msg)\n",
        "\n",
        "def test_salvar_inst_noname():\n",
        "    error_msg = \"Os campos nome, e-mail e formação não podem ser vazios\"\n",
        "    new_inst = Instcontroller()\n",
        "    resultado = new_inst.salvar(\"\",\"maria@test.com\",\"analista de sistemas\",\"teste\", True)\n",
        "    assert(resultado==error_msg)\n"
      ],
      "metadata": {
        "colab": {
          "base_uri": "https://localhost:8080/"
        },
        "id": "jgltPLcYvlAG",
        "outputId": "c1d8024d-08ed-46af-a517-be6b90549ca5"
      },
      "execution_count": null,
      "outputs": [
        {
          "output_type": "stream",
          "name": "stdout",
          "text": [
            "Overwriting test_instrutor.py\n"
          ]
        }
      ]
    },
    {
      "cell_type": "code",
      "metadata": {
        "id": "DXBQkMc8VeD8",
        "outputId": "6d349480-c6ae-4d68-ad1a-7bdb72afe3d2",
        "colab": {
          "base_uri": "https://localhost:8080/"
        }
      },
      "source": [
        "!python -m pytest test_instrutor.py "
      ],
      "execution_count": null,
      "outputs": [
        {
          "output_type": "stream",
          "name": "stdout",
          "text": [
            "\u001b[1mTest session starts (platform: linux, Python 3.7.13, pytest 7.1.2, pytest-sugar 0.9.4)\u001b[0m\n",
            "rootdir: /content/tdd\n",
            "plugins: cov-3.0.0, sugar-0.9.4, typeguard-2.7.1\n",
            "\u001b[1mcollecting ... \u001b[0m\r\n",
            "\r \u001b[36m\u001b[0mtest_instrutor.py\u001b[0m \u001b[32m✓\u001b[0m                                              \u001b[32m50% \u001b[0m\u001b[40m\u001b[32m█\u001b[0m\u001b[40m\u001b[32m████     \u001b[0m\r \u001b[36m\u001b[0mtest_instrutor.py\u001b[0m \u001b[32m✓\u001b[0m\u001b[32m✓\u001b[0m                                            \u001b[32m100% \u001b[0m\u001b[40m\u001b[32m█\u001b[0m\u001b[40m\u001b[32m████\u001b[0m\u001b[40m\u001b[32m█\u001b[0m\u001b[40m\u001b[32m████\u001b[0m\n",
            "\n",
            "Results (0.02s):\n",
            "\u001b[32m       2 passed\u001b[0m\n"
          ]
        }
      ]
    },
    {
      "cell_type": "code",
      "source": [
        "!python -m pytest tdd/test_instrutor.py --cov tdd/"
      ],
      "metadata": {
        "colab": {
          "base_uri": "https://localhost:8080/"
        },
        "id": "l1cX_PGw13gP",
        "outputId": "365da239-d8da-478d-a01e-25957fa13697"
      },
      "execution_count": 18,
      "outputs": [
        {
          "output_type": "stream",
          "name": "stdout",
          "text": [
            "\u001b[1mTest session starts (platform: linux, Python 3.7.13, pytest 7.1.2, pytest-sugar 0.9.4)\u001b[0m\n",
            "rootdir: /content\n",
            "plugins: cov-3.0.0, sugar-0.9.4, typeguard-2.7.1\n",
            "\u001b[1mcollecting ... \u001b[0m\r\n",
            "\r \u001b[36mtdd/\u001b[0mtest_instrutor.py\u001b[0m \u001b[32m✓\u001b[0m                                          \u001b[32m50% \u001b[0m\u001b[40m\u001b[32m█\u001b[0m\u001b[40m\u001b[32m████     \u001b[0m\r \u001b[36mtdd/\u001b[0mtest_instrutor.py\u001b[0m \u001b[32m✓\u001b[0m\u001b[32m✓\u001b[0m                                        \u001b[32m100% \u001b[0m\u001b[40m\u001b[32m█\u001b[0m\u001b[40m\u001b[32m████\u001b[0m\u001b[40m\u001b[32m█\u001b[0m\u001b[40m\u001b[32m████\u001b[0m\n",
            "\n",
            "---------- coverage: platform linux, python 3.7.13-final-0 -----------\n",
            "Name                    Stmts   Miss  Cover\n",
            "-------------------------------------------\n",
            "tdd/instcontroller.py      21      3    86%\n",
            "tdd/instrutor.py           40     16    60%\n",
            "tdd/test_instrutor.py      11      0   100%\n",
            "-------------------------------------------\n",
            "TOTAL                      72     19    74%\n",
            "\n",
            "\n",
            "Results (0.05s):\n",
            "\u001b[32m       2 passed\u001b[0m\n"
          ]
        }
      ]
    }
  ]
}